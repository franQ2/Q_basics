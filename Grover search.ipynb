{
  "nbformat": 4,
  "nbformat_minor": 0,
  "metadata": {
    "colab": {
      "provenance": []
    },
    "kernelspec": {
      "name": "python3",
      "display_name": "Python 3"
    },
    "language_info": {
      "name": "python"
    }
  },
  "cells": [
    {
      "cell_type": "code",
      "source": [
        "!pip install qiskit\n",
        "!pip install qiskit_optimization\n",
        "!pip install pylatexenc"
      ],
      "metadata": {
        "id": "27gn_G4j_tKO"
      },
      "execution_count": null,
      "outputs": []
    },
    {
      "cell_type": "code",
      "source": [
        "from qiskit import *\n",
        "from qiskit.quantum_info import Operator\n",
        "from qiskit.visualization import *\n",
        "from qiskit_optimization import *\n",
        "from qiskit_optimization.algorithms import GroverOptimizer\n",
        "from qiskit.algorithms import *\n",
        "import numpy as np\n",
        "import math"
      ],
      "metadata": {
        "id": "LFOA2oJJ_rZg"
      },
      "execution_count": null,
      "outputs": []
    },
    {
      "cell_type": "markdown",
      "source": [
        "# Let's construct the Grover’s algorithm at gate level to search the state |110>.\n",
        "Then let's do the same with the Grover’s function that Qiskit provides."
      ],
      "metadata": {
        "id": "f5JymyNx_Jgz"
      }
    },
    {
      "cell_type": "markdown",
      "source": [
        "###First, let's perform the Grover's algorithm for 3 qubits to search the state $|110\\rangle$:\n",
        "\n",
        "\\begin{equation*}\n",
        "U_w = \n",
        "\\begin{pmatrix}\n",
        "1 & 0 & 0 & 0 & 0 & 0 & 0 & 0 \\\\\n",
        "0 & 1 & 0 & 0 & 0 & 0 & 0 & 0 \\\\\n",
        "0 & 0 & 1 & 0 & 0 & 0 & 0 & 0 \\\\\n",
        "0 & 0 & 0 & 1 & 0 & 0 & 0 & 0 \\\\\n",
        "0 & 0 & 0 & 0 & 1 & 0 & 0 & 0 \\\\\n",
        "0 & 0 & 0 & 0 & 0 & 1 & 0 & 0 \\\\\n",
        "0 & 0 & 0 & 0 & 0 & 0 & -1 & 0 \\\\\n",
        "0 & 0 & 0 & 0 & 0 & 0 & 0 & 1 \n",
        "\\end{pmatrix}\n",
        "\\end{equation*}"
      ],
      "metadata": {
        "id": "5wqTuhdrBIys"
      }
    },
    {
      "cell_type": "code",
      "source": [
        "# Using the tools seen in class 2, let's construct the circuit for this oracle\n",
        "U = Operator([[1,0,0,0,0,0,0,0], [0,1,0,0,0,0,0,0], [0,0,1,0,0,0,0,0], [0,0,0,1,0,0,0,0], [0,0,0,0,1,0,0,0], [0,0,0,0,0,1,0,0], [0,0,0,0,0,0,-1,0], [0,0,0,0,0,0,0,1]])\n",
        "print(U)"
      ],
      "metadata": {
        "colab": {
          "base_uri": "https://localhost:8080/"
        },
        "id": "NhEeokbsEWT1",
        "outputId": "691b5ad9-bd36-4eba-da37-3724c7dc4ab0"
      },
      "execution_count": null,
      "outputs": [
        {
          "output_type": "stream",
          "name": "stdout",
          "text": [
            "Operator([[ 1.+0.j,  0.+0.j,  0.+0.j,  0.+0.j,  0.+0.j,  0.+0.j,  0.+0.j,\n",
            "            0.+0.j],\n",
            "          [ 0.+0.j,  1.+0.j,  0.+0.j,  0.+0.j,  0.+0.j,  0.+0.j,  0.+0.j,\n",
            "            0.+0.j],\n",
            "          [ 0.+0.j,  0.+0.j,  1.+0.j,  0.+0.j,  0.+0.j,  0.+0.j,  0.+0.j,\n",
            "            0.+0.j],\n",
            "          [ 0.+0.j,  0.+0.j,  0.+0.j,  1.+0.j,  0.+0.j,  0.+0.j,  0.+0.j,\n",
            "            0.+0.j],\n",
            "          [ 0.+0.j,  0.+0.j,  0.+0.j,  0.+0.j,  1.+0.j,  0.+0.j,  0.+0.j,\n",
            "            0.+0.j],\n",
            "          [ 0.+0.j,  0.+0.j,  0.+0.j,  0.+0.j,  0.+0.j,  1.+0.j,  0.+0.j,\n",
            "            0.+0.j],\n",
            "          [ 0.+0.j,  0.+0.j,  0.+0.j,  0.+0.j,  0.+0.j,  0.+0.j, -1.+0.j,\n",
            "            0.+0.j],\n",
            "          [ 0.+0.j,  0.+0.j,  0.+0.j,  0.+0.j,  0.+0.j,  0.+0.j,  0.+0.j,\n",
            "            1.+0.j]],\n",
            "         input_dims=(2, 2, 2), output_dims=(2, 2, 2))\n"
          ]
        }
      ]
    },
    {
      "cell_type": "code",
      "source": [
        "U.is_unitary()"
      ],
      "metadata": {
        "colab": {
          "base_uri": "https://localhost:8080/"
        },
        "id": "052z0GX_FxDF",
        "outputId": "6d6b34bd-986c-415b-f801-05c9d495143d"
      },
      "execution_count": null,
      "outputs": [
        {
          "output_type": "execute_result",
          "data": {
            "text/plain": [
              "True"
            ]
          },
          "metadata": {},
          "execution_count": 3
        }
      ]
    },
    {
      "cell_type": "markdown",
      "source": [
        "### Once we know the matrix is unitary, therefore a valid quanutm operator, we can convert our Oracle into a Quantum Circuit\n",
        "### Let's build it and run some tests.\n",
        "#### We'll build the oracle, send the state 110 through it and observe that the phase changes"
      ],
      "metadata": {
        "id": "8lY9C_RVN-gi"
      }
    },
    {
      "cell_type": "code",
      "source": [
        "num_qubits = 3\n",
        "qr = QuantumRegister(num_qubits)\n",
        "\n",
        "qcirc = QuantumCircuit(qr)\n",
        "# state 110 (qiskit prints them from bottom to top)\n",
        "qcirc.x(1)\n",
        "qcirc.x(2)\n",
        "qcirc.append(U, qr)\n",
        "qcirc.draw('mpl')"
      ],
      "metadata": {
        "colab": {
          "base_uri": "https://localhost:8080/",
          "height": 185
        },
        "id": "CgG6PLipFldD",
        "outputId": "c08926f7-65cc-4715-82e9-8dd82ec34780"
      },
      "execution_count": null,
      "outputs": [
        {
          "output_type": "execute_result",
          "data": {
            "text/plain": [
              "<Figure size 280.178x204.68 with 1 Axes>"
            ],
            "image/png": "[encoded data removed]"
          },
          "metadata": {},
          "execution_count": 4
        }
      ]
    },
    {
      "cell_type": "markdown",
      "source": [
        "#### observe the -1 in the 7th position of the array"
      ],
      "metadata": {
        "id": "inM706SwOVC7"
      }
    },
    {
      "cell_type": "code",
      "source": [
        "backend = BasicAer.get_backend('statevector_simulator')\n",
        "job = execute(qcirc, backend)\n",
        "result = job.result()\n",
        "state = result.get_statevector()\n",
        "print(state)"
      ],
      "metadata": {
        "colab": {
          "base_uri": "https://localhost:8080/"
        },
        "id": "IrN04FBLIruB",
        "outputId": "e888c97d-aeff-4a45-9b78-60bc04daa3eb"
      },
      "execution_count": null,
      "outputs": [
        {
          "output_type": "stream",
          "name": "stdout",
          "text": [
            "[ 0.+0.j  0.+0.j  0.+0.j  0.+0.j  0.+0.j  0.+0.j -1.+0.j  0.+0.j]\n"
          ]
        }
      ]
    },
    {
      "cell_type": "markdown",
      "source": [
        "### Now that we created the oracle, let's build the main circuit"
      ],
      "metadata": {
        "id": "X9aMVhPeHJZx"
      }
    },
    {
      "cell_type": "code",
      "source": [
        "def get_search_iteration_circuit_110(num_qubits = 3):\n",
        "  qr = QuantumRegister(num_qubits)\n",
        "  qcirc = QuantumCircuit(qr)\n",
        "  \n",
        "  qcirc.append(U, qr)\n",
        "\n",
        "  qcirc.barrier()\n",
        "  # Diffuser operator to amplify the amplitude\n",
        "  for qubit in range(num_qubits):\n",
        "      qcirc.h(qubit)\n",
        "  for qubit in range(num_qubits):\n",
        "      qcirc.x(qubit)\n",
        "  qcirc.h(num_qubits-1)\n",
        "  qcirc.mct(list(range(num_qubits-1)), num_qubits-1)\n",
        "  qcirc.h(num_qubits-1)\n",
        "  for qubit in range(num_qubits):\n",
        "      qcirc.x(qubit)\n",
        "  for qubit in range(num_qubits):\n",
        "      qcirc.h(qubit)\n",
        "  \n",
        "  return qcirc\n"
      ],
      "metadata": {
        "id": "XwkCvTz6LtDe"
      },
      "execution_count": null,
      "outputs": []
    },
    {
      "cell_type": "code",
      "source": [
        "c = get_search_iteration_circuit_110()\n",
        "c.draw('mpl')"
      ],
      "metadata": {
        "colab": {
          "base_uri": "https://localhost:8080/",
          "height": 185
        },
        "id": "ro1no622MfIW",
        "outputId": "ce452212-b7c4-4556-9451-187af832c87b"
      },
      "execution_count": null,
      "outputs": [
        {
          "output_type": "execute_result",
          "data": {
            "text/plain": [
              "<Figure size 701.869x204.68 with 1 Axes>"
            ],
            "image/png": "[encoded data removed]"
          },
          "metadata": {},
          "execution_count": 7
        }
      ]
    },
    {
      "cell_type": "code",
      "source": [
        "def search_for_110(num_iterations):\n",
        "  qr = QuantumRegister(num_qubits)\n",
        "  circuit = QuantumCircuit(qr)\n",
        "  # Initializing the circuit\n",
        "  for i in range(num_qubits):\n",
        "      circuit.h(i)\n",
        "\n",
        "  for i in range(num_iterations):\n",
        "    circuit.append(get_search_iteration_circuit_110(), qr)\n",
        "  circuit.measure_all()\n",
        "\n",
        "  backend = Aer.get_backend('qasm_simulator')\n",
        "  results = execute(circuit, backend=backend, shots=1024).result()\n",
        "  answer = results.get_counts()\n",
        "  return answer"
      ],
      "metadata": {
        "id": "6tFXv_yNL_eZ"
      },
      "execution_count": null,
      "outputs": []
    },
    {
      "cell_type": "code",
      "source": [
        "plot_histogram(search_for_110(1))"
      ],
      "metadata": {
        "colab": {
          "base_uri": "https://localhost:8080/",
          "height": 340
        },
        "id": "uRQo3Qw9QYwA",
        "outputId": "4cebd2d5-1f5a-4028-956b-a8b6b0c5492f"
      },
      "execution_count": null,
      "outputs": [
        {
          "output_type": "execute_result",
          "data": {
            "text/plain": [
              "<Figure size 504x360 with 1 Axes>"
            ],
            "image/png": "[encoded data removed]"
          },
          "metadata": {},
          "execution_count": 9
        }
      ]
    },
    {
      "cell_type": "code",
      "source": [
        "plot_histogram(search_for_110(2))"
      ],
      "metadata": {
        "colab": {
          "base_uri": "https://localhost:8080/",
          "height": 340
        },
        "id": "Q2mdl411MV0k",
        "outputId": "1eccda03-7d5e-4540-b2c9-1678d75fd81a"
      },
      "execution_count": null,
      "outputs": [
        {
          "output_type": "execute_result",
          "data": {
            "text/plain": [
              "<Figure size 504x360 with 1 Axes>"
            ],
            "image/png": "[encoded data removed]"
          },
          "metadata": {},
          "execution_count": 10
        }
      ]
    },
    {
      "cell_type": "markdown",
      "source": [
        "## Now let's do it with qiskit functionalities"
      ],
      "metadata": {
        "id": "d7hg2E2lO_S0"
      }
    },
    {
      "cell_type": "code",
      "source": [
        "# First, we need to know how many iterations we need to carry out\n",
        "iterations = Grover.optimal_num_iterations(num_solutions=1, num_qubits=3)\n",
        "print(iterations)"
      ],
      "metadata": {
        "colab": {
          "base_uri": "https://localhost:8080/"
        },
        "id": "gQYxDSL6Os8w",
        "outputId": "5d5aa367-766c-4076-b506-43636eda22b8"
      },
      "execution_count": null,
      "outputs": [
        {
          "output_type": "stream",
          "name": "stdout",
          "text": [
            "2\n"
          ]
        }
      ]
    },
    {
      "cell_type": "code",
      "source": [
        "DESIRED_STATE = '110'\n",
        "# Implementing the oracle of the first step\n",
        "oracle_qr = QuantumRegister(num_qubits)\n",
        "oracle = QuantumCircuit(oracle_qr)\n",
        "oracle.append(U, oracle_qr)\n",
        "\n",
        "# The states we are searching for\n",
        "good_states = [DESIRED_STATE]\n",
        "grover_circuit = AmplificationProblem(oracle=oracle, is_good_state=good_states)\n",
        "simulator = Aer.get_backend('qasm_simulator')\n",
        "grover = Grover(quantum_instance=simulator)\n",
        "result = grover.amplify(grover_circuit)"
      ],
      "metadata": {
        "id": "Vg9JSCuJCUi8"
      },
      "execution_count": null,
      "outputs": []
    },
    {
      "cell_type": "code",
      "source": [
        "simulator = Aer.get_backend('qasm_simulator')\n",
        "grover = Grover(quantum_instance=simulator)\n",
        "result = grover.amplify(grover_circuit)"
      ],
      "metadata": {
        "id": "0ldxl64fPdtn"
      },
      "execution_count": null,
      "outputs": []
    },
    {
      "cell_type": "code",
      "source": [
        "print(result)\n",
        "print(result.top_measurement)\n",
        "print('\\n The correct results are:', result.circuit_results[0].keys())"
      ],
      "metadata": {
        "colab": {
          "base_uri": "https://localhost:8080/"
        },
        "id": "7FuGXETdPhaj",
        "outputId": "fb7506d4-5975-415c-ddb1-eab3dbc49126"
      },
      "execution_count": null,
      "outputs": [
        {
          "output_type": "stream",
          "name": "stdout",
          "text": [
            "{   'assignment': '110',\n",
            "    'circuit_results': [   {   '000': 36,\n",
            "                               '001': 35,\n",
            "                               '010': 30,\n",
            "                               '011': 28,\n",
            "                               '100': 30,\n",
            "                               '101': 22,\n",
            "                               '110': 810,\n",
            "                               '111': 33}],\n",
            "    'iterations': [1],\n",
            "    'max_probability': 0.791015625,\n",
            "    'oracle_evaluation': True,\n",
            "    'top_measurement': '110'}\n",
            "110\n",
            "\n",
            " The correct results are: dict_keys(['111', '011', '101', '010', '000', '100', '001', '110'])\n"
          ]
        }
      ]
    },
    {
      "cell_type": "markdown",
      "source": [
        "## It can be observed that the results are the same as in the circuit built at gate level"
      ],
      "metadata": {
        "id": "ZuVk69F-Qp2F"
      }
    }
  ]
}